{
 "cells": [
  {
   "cell_type": "code",
   "execution_count": 1,
   "metadata": {},
   "outputs": [],
   "source": [
    "import math\n",
    "import torch\n",
    "import pandas as pd\n",
    "from torch import nn\n",
    "from torch.nn import functional as F\n",
    "from torch.utils.data import Dataset, DataLoader\n",
    "import matplotlib.pyplot as plt\n",
    "import matplotlib.pyplot as plt\n",
    "import matplotlib.dates as mdates\n",
    "from pathlib import Path\n",
    "import morethemes as mt\n",
    "import numpy as np\n",
    "import morethemes as mt"
   ]
  },
  {
   "cell_type": "code",
   "execution_count": 4,
   "metadata": {},
   "outputs": [],
   "source": [
    "df = pd.read_pickle(\"/workspaces/ds_project_1/data/dataset.pkl\")"
   ]
  },
  {
   "cell_type": "code",
   "execution_count": 13,
   "metadata": {},
   "outputs": [
    {
     "data": {
      "application/vnd.microsoft.datawrangler.viewer.v0+json": {
       "columns": [
        {
         "name": "index",
         "rawType": "datetime64[ns, Europe/Paris]",
         "type": "unknown"
        },
        {
         "name": "prices",
         "rawType": "float64",
         "type": "float"
        },
        {
         "name": "load_fcst",
         "rawType": "float64",
         "type": "float"
        },
        {
         "name": "cos_day",
         "rawType": "float64",
         "type": "float"
        },
        {
         "name": "sin_day",
         "rawType": "float64",
         "type": "float"
        },
        {
         "name": "prev_day_prices",
         "rawType": "float64",
         "type": "float"
        },
        {
         "name": "prev_48_prices",
         "rawType": "float64",
         "type": "float"
        },
        {
         "name": "prev_week_prices",
         "rawType": "float64",
         "type": "float"
        },
        {
         "name": "prev_day_last_price",
         "rawType": "float64",
         "type": "float"
        },
        {
         "name": "solar",
         "rawType": "float64",
         "type": "float"
        },
        {
         "name": "wind_on",
         "rawType": "float64",
         "type": "float"
        },
        {
         "name": "prev_day_load",
         "rawType": "float64",
         "type": "float"
        },
        {
         "name": "prev_day_solar",
         "rawType": "float64",
         "type": "float"
        },
        {
         "name": "prev_day_wind_on",
         "rawType": "float64",
         "type": "float"
        },
        {
         "name": "prev_week_load",
         "rawType": "float64",
         "type": "float"
        },
        {
         "name": "prev_week_solar",
         "rawType": "float64",
         "type": "float"
        },
        {
         "name": "prev_week_wind_on",
         "rawType": "float64",
         "type": "float"
        }
       ],
       "conversionMethod": "pd.DataFrame",
       "ref": "b55cf425-24f0-4996-9b7c-f9eb4f2911a6",
       "rows": [
        [
         "2018-01-08 00:00:00+01:00",
         "18.91",
         "59650.0",
         "0.6234898018587336",
         "0.7818314824680298",
         "21.87",
         "29.45",
         "6.74",
         "27.01",
         "0.0",
         "5995.0",
         "61650.0",
         "0.0",
         "4438.0",
         "56250.0",
         "0.0",
         "10113.0"
        ],
        [
         "2018-01-08 01:00:00+01:00",
         "15.15",
         "57050.0",
         "0.6234898018587336",
         "0.7818314824680298",
         "15.98",
         "28.55",
         "4.74",
         "27.01",
         "0.0",
         "5638.0",
         "58150.0",
         "0.0",
         "5020.0",
         "54300.0",
         "0.0",
         "10042.0"
        ],
        [
         "2018-01-08 02:00:00+01:00",
         "15.11",
         "56200.0",
         "0.6234898018587336",
         "0.7818314824680298",
         "15.99",
         "28.18",
         "3.66",
         "27.01",
         "0.0",
         "5391.0",
         "56550.0",
         "0.0",
         "5613.0",
         "53600.0",
         "0.0",
         "9627.0"
        ],
        [
         "2018-01-08 03:00:00+01:00",
         "13.42",
         "53300.0",
         "0.6234898018587336",
         "0.7818314824680298",
         "14.0",
         "25.27",
         "1.26",
         "27.01",
         "0.0",
         "5145.0",
         "52900.0",
         "0.0",
         "6206.0",
         "50000.0",
         "0.0",
         "9200.0"
        ],
        [
         "2018-01-08 04:00:00+01:00",
         "12.91",
         "51950.0",
         "0.6234898018587336",
         "0.7818314824680298",
         "12.51",
         "24.34",
         "-20.1",
         "27.01",
         "0.0",
         "4906.0",
         "50950.0",
         "0.0",
         "6798.0",
         "47100.0",
         "0.0",
         "8771.0"
        ]
       ],
       "shape": {
        "columns": 16,
        "rows": 5
       }
      },
      "text/html": [
       "<div>\n",
       "<style scoped>\n",
       "    .dataframe tbody tr th:only-of-type {\n",
       "        vertical-align: middle;\n",
       "    }\n",
       "\n",
       "    .dataframe tbody tr th {\n",
       "        vertical-align: top;\n",
       "    }\n",
       "\n",
       "    .dataframe thead th {\n",
       "        text-align: right;\n",
       "    }\n",
       "</style>\n",
       "<table border=\"1\" class=\"dataframe\">\n",
       "  <thead>\n",
       "    <tr style=\"text-align: right;\">\n",
       "      <th></th>\n",
       "      <th>prices</th>\n",
       "      <th>load_fcst</th>\n",
       "      <th>cos_day</th>\n",
       "      <th>sin_day</th>\n",
       "      <th>prev_day_prices</th>\n",
       "      <th>prev_48_prices</th>\n",
       "      <th>prev_week_prices</th>\n",
       "      <th>prev_day_last_price</th>\n",
       "      <th>solar</th>\n",
       "      <th>wind_on</th>\n",
       "      <th>prev_day_load</th>\n",
       "      <th>prev_day_solar</th>\n",
       "      <th>prev_day_wind_on</th>\n",
       "      <th>prev_week_load</th>\n",
       "      <th>prev_week_solar</th>\n",
       "      <th>prev_week_wind_on</th>\n",
       "    </tr>\n",
       "  </thead>\n",
       "  <tbody>\n",
       "    <tr>\n",
       "      <th>2018-01-08 00:00:00+01:00</th>\n",
       "      <td>18.91</td>\n",
       "      <td>59650.0</td>\n",
       "      <td>0.62349</td>\n",
       "      <td>0.781831</td>\n",
       "      <td>21.87</td>\n",
       "      <td>29.45</td>\n",
       "      <td>6.74</td>\n",
       "      <td>27.01</td>\n",
       "      <td>0.0</td>\n",
       "      <td>5995.0</td>\n",
       "      <td>61650.0</td>\n",
       "      <td>0.0</td>\n",
       "      <td>4438.0</td>\n",
       "      <td>56250.0</td>\n",
       "      <td>0.0</td>\n",
       "      <td>10113.0</td>\n",
       "    </tr>\n",
       "    <tr>\n",
       "      <th>2018-01-08 01:00:00+01:00</th>\n",
       "      <td>15.15</td>\n",
       "      <td>57050.0</td>\n",
       "      <td>0.62349</td>\n",
       "      <td>0.781831</td>\n",
       "      <td>15.98</td>\n",
       "      <td>28.55</td>\n",
       "      <td>4.74</td>\n",
       "      <td>27.01</td>\n",
       "      <td>0.0</td>\n",
       "      <td>5638.0</td>\n",
       "      <td>58150.0</td>\n",
       "      <td>0.0</td>\n",
       "      <td>5020.0</td>\n",
       "      <td>54300.0</td>\n",
       "      <td>0.0</td>\n",
       "      <td>10042.0</td>\n",
       "    </tr>\n",
       "    <tr>\n",
       "      <th>2018-01-08 02:00:00+01:00</th>\n",
       "      <td>15.11</td>\n",
       "      <td>56200.0</td>\n",
       "      <td>0.62349</td>\n",
       "      <td>0.781831</td>\n",
       "      <td>15.99</td>\n",
       "      <td>28.18</td>\n",
       "      <td>3.66</td>\n",
       "      <td>27.01</td>\n",
       "      <td>0.0</td>\n",
       "      <td>5391.0</td>\n",
       "      <td>56550.0</td>\n",
       "      <td>0.0</td>\n",
       "      <td>5613.0</td>\n",
       "      <td>53600.0</td>\n",
       "      <td>0.0</td>\n",
       "      <td>9627.0</td>\n",
       "    </tr>\n",
       "    <tr>\n",
       "      <th>2018-01-08 03:00:00+01:00</th>\n",
       "      <td>13.42</td>\n",
       "      <td>53300.0</td>\n",
       "      <td>0.62349</td>\n",
       "      <td>0.781831</td>\n",
       "      <td>14.00</td>\n",
       "      <td>25.27</td>\n",
       "      <td>1.26</td>\n",
       "      <td>27.01</td>\n",
       "      <td>0.0</td>\n",
       "      <td>5145.0</td>\n",
       "      <td>52900.0</td>\n",
       "      <td>0.0</td>\n",
       "      <td>6206.0</td>\n",
       "      <td>50000.0</td>\n",
       "      <td>0.0</td>\n",
       "      <td>9200.0</td>\n",
       "    </tr>\n",
       "    <tr>\n",
       "      <th>2018-01-08 04:00:00+01:00</th>\n",
       "      <td>12.91</td>\n",
       "      <td>51950.0</td>\n",
       "      <td>0.62349</td>\n",
       "      <td>0.781831</td>\n",
       "      <td>12.51</td>\n",
       "      <td>24.34</td>\n",
       "      <td>-20.10</td>\n",
       "      <td>27.01</td>\n",
       "      <td>0.0</td>\n",
       "      <td>4906.0</td>\n",
       "      <td>50950.0</td>\n",
       "      <td>0.0</td>\n",
       "      <td>6798.0</td>\n",
       "      <td>47100.0</td>\n",
       "      <td>0.0</td>\n",
       "      <td>8771.0</td>\n",
       "    </tr>\n",
       "  </tbody>\n",
       "</table>\n",
       "</div>"
      ],
      "text/plain": [
       "                           prices  load_fcst  cos_day   sin_day  \\\n",
       "2018-01-08 00:00:00+01:00   18.91    59650.0  0.62349  0.781831   \n",
       "2018-01-08 01:00:00+01:00   15.15    57050.0  0.62349  0.781831   \n",
       "2018-01-08 02:00:00+01:00   15.11    56200.0  0.62349  0.781831   \n",
       "2018-01-08 03:00:00+01:00   13.42    53300.0  0.62349  0.781831   \n",
       "2018-01-08 04:00:00+01:00   12.91    51950.0  0.62349  0.781831   \n",
       "\n",
       "                           prev_day_prices  prev_48_prices  prev_week_prices  \\\n",
       "2018-01-08 00:00:00+01:00            21.87           29.45              6.74   \n",
       "2018-01-08 01:00:00+01:00            15.98           28.55              4.74   \n",
       "2018-01-08 02:00:00+01:00            15.99           28.18              3.66   \n",
       "2018-01-08 03:00:00+01:00            14.00           25.27              1.26   \n",
       "2018-01-08 04:00:00+01:00            12.51           24.34            -20.10   \n",
       "\n",
       "                           prev_day_last_price  solar  wind_on  prev_day_load  \\\n",
       "2018-01-08 00:00:00+01:00                27.01    0.0   5995.0        61650.0   \n",
       "2018-01-08 01:00:00+01:00                27.01    0.0   5638.0        58150.0   \n",
       "2018-01-08 02:00:00+01:00                27.01    0.0   5391.0        56550.0   \n",
       "2018-01-08 03:00:00+01:00                27.01    0.0   5145.0        52900.0   \n",
       "2018-01-08 04:00:00+01:00                27.01    0.0   4906.0        50950.0   \n",
       "\n",
       "                           prev_day_solar  prev_day_wind_on  prev_week_load  \\\n",
       "2018-01-08 00:00:00+01:00             0.0            4438.0         56250.0   \n",
       "2018-01-08 01:00:00+01:00             0.0            5020.0         54300.0   \n",
       "2018-01-08 02:00:00+01:00             0.0            5613.0         53600.0   \n",
       "2018-01-08 03:00:00+01:00             0.0            6206.0         50000.0   \n",
       "2018-01-08 04:00:00+01:00             0.0            6798.0         47100.0   \n",
       "\n",
       "                           prev_week_solar  prev_week_wind_on  \n",
       "2018-01-08 00:00:00+01:00              0.0            10113.0  \n",
       "2018-01-08 01:00:00+01:00              0.0            10042.0  \n",
       "2018-01-08 02:00:00+01:00              0.0             9627.0  \n",
       "2018-01-08 03:00:00+01:00              0.0             9200.0  \n",
       "2018-01-08 04:00:00+01:00              0.0             8771.0  "
      ]
     },
     "execution_count": 13,
     "metadata": {},
     "output_type": "execute_result"
    }
   ],
   "source": [
    "df.head()"
   ]
  },
  {
   "cell_type": "code",
   "execution_count": 24,
   "metadata": {},
   "outputs": [
    {
     "data": {
      "text/plain": [
       "(61176, 16)"
      ]
     },
     "execution_count": 24,
     "metadata": {},
     "output_type": "execute_result"
    }
   ],
   "source": [
    "df.shape"
   ]
  },
  {
   "cell_type": "code",
   "execution_count": 12,
   "metadata": {},
   "outputs": [],
   "source": [
    "prices = df[\"prices\"].values[:int(len(df.values)*0.7)]"
   ]
  },
  {
   "cell_type": "code",
   "execution_count": 20,
   "metadata": {},
   "outputs": [],
   "source": [
    "prices = df[\"prices\"].values\n",
    "predictors = df.drop(columns=[\"prices\"])"
   ]
  },
  {
   "cell_type": "code",
   "execution_count": 13,
   "metadata": {},
   "outputs": [
    {
     "data": {
      "text/plain": [
       "(42823,)"
      ]
     },
     "execution_count": 13,
     "metadata": {},
     "output_type": "execute_result"
    }
   ],
   "source": [
    "prices.shape"
   ]
  },
  {
   "cell_type": "code",
   "execution_count": 11,
   "metadata": {},
   "outputs": [
    {
     "data": {
      "text/plain": [
       "np.float64(138.66)"
      ]
     },
     "execution_count": 11,
     "metadata": {},
     "output_type": "execute_result"
    }
   ],
   "source": [
    "prices"
   ]
  },
  {
   "cell_type": "code",
   "execution_count": null,
   "metadata": {},
   "outputs": [],
   "source": [
    "predictors = predictors.values"
   ]
  },
  {
   "cell_type": "code",
   "execution_count": 23,
   "metadata": {},
   "outputs": [
    {
     "name": "stdout",
     "output_type": "stream",
     "text": [
      "(61176, 15)\n"
     ]
    }
   ],
   "source": [
    "print(predictors.shape)"
   ]
  },
  {
   "cell_type": "code",
   "execution_count": 25,
   "metadata": {},
   "outputs": [
    {
     "data": {
      "text/plain": [
       "array([6.89500000e+04, 6.23489802e-01, 7.81831482e-01, 1.98600000e+01,\n",
       "       3.74000000e+01, 8.56000000e+00, 2.70100000e+01, 1.01800000e+03,\n",
       "       2.68500000e+03, 5.76000000e+04, 9.64000000e+02, 8.73300000e+03,\n",
       "       5.09500000e+04, 9.51000000e+02, 9.49000000e+03])"
      ]
     },
     "execution_count": 25,
     "metadata": {},
     "output_type": "execute_result"
    }
   ],
   "source": [
    "predictors[15]"
   ]
  },
  {
   "cell_type": "code",
   "execution_count": 4,
   "metadata": {},
   "outputs": [],
   "source": [
    "class RNNfromscratch(nn.Module):\n",
    "    def __init__(self, input_size, hidden_size, num_layers, dropout=0.2):\n",
    "        super().__init__()\n",
    "\n",
    "        self.input_size = input_size\n",
    "        self.hidden_size = hidden_size\n",
    "        self.num_layers = num_layers\n",
    "        self.dropout_prob = dropout\n",
    "\n",
    "        self.W_xh = nn.Parameter(torch.Tensor(self.input_size, self.hidden_size))\n",
    "        self.W_hh = nn.Parameter(torch.Tensor(self.hidden_size, self.hidden_size))\n",
    "        self.b_h = nn.Parameter(torch.Tensor(self.hidden_size))\n",
    "\n",
    "        if self.num_layers > 1:\n",
    "            self.W_layers = nn.ParameterList([nn.Parameter(torch.Tensor(self.hidden_size, self.hidden_size)) for _ in range(self.num_layers-1)])\n",
    "            self.U_layers = nn.ParameterList([nn.Parameter(torch.Tensor(self.hidden_size, self.hidden_size)) for _ in range(self.num_layers-1)])\n",
    "            self.b_layers = nn.ParameterList([nn.Parameter(torch.Tensor(self.hidden_size)) for _ in range(self.num_layers-1)])\n",
    "\n",
    "        self.dropout = nn.Dropout(self.dropout_prob)\n",
    "        self.reset_parameters()\n",
    "    \n",
    "    def reset_parameters(self):\n",
    "        \"\"\"\n",
    "        Function called by Pytorch framework to init parameters.\n",
    "        \"\"\"\n",
    "        nn.init.xavier_normal_(self.W_xh) # For input-to-hidden with corrected variance\n",
    "        nn.init.orthogonal_(self.W_hh) # for recurrent weights\n",
    "        nn.init.zeros_(self.b_h)\n",
    "        \n",
    "        if self.num_layers > 1:\n",
    "            for i in range(self.num_layers - 1):\n",
    "                nn.init.xavier_uniform_(self.W_layers[i])\n",
    "                nn.init.orthogonal_(self.U_layers[i])\n",
    "                nn.init.zeros_(self.b_layers[i])\n",
    "\n",
    "    \n",
    "    def forward(self, X, state=None):\n",
    "        # X.shape = (seq_len, batch_size, input size)\n",
    "        seq_len, batch_size, _ = X.shape\n",
    "\n",
    "        if state is None:\n",
    "            hidden = torch.zeros(self.num_layers, batch_size, self.hidden_size, device=X.device)\n",
    "        else:\n",
    "            # Clone to avoid inplace operations which can cause errors during backprop\n",
    "            hidden = state.clone()\n",
    "\n",
    "        outputs = torch.zeros(seq_len, batch_size, self.hidden_size, device=X.device)\n",
    "\n",
    "        for t in range(seq_len):\n",
    "            new_hidden = torch.zeros_like(hidden)\n",
    "            x_t = X[t]\n",
    "            for layer in range(self.num_layers):\n",
    "                if layer==0:\n",
    "                    h_state = torch.tanh(x_t @ self.W_xh + hidden[layer] @ self.W_hh + self.b_h)\n",
    "                else:\n",
    "                    h_state = torch.tanh(hidden[layer] @ self.U_layers[layer-1] + hidden[layer-1] @ self.W_layers[layer-1] + self.b_layers[layer-1])\n",
    "\n",
    "                if layer < self.num_layers-1 or t < seq_len-1:\n",
    "                    h_state = self.dropout(h_state)\n",
    "\n",
    "                new_hidden[layer] = h_state\n",
    "            # print(f\"For time step {t} hidden state shape: {len(hidden)}\")\n",
    "            hidden = new_hidden.clone()\n",
    "            outputs[t] = hidden[-1]\n",
    "\n",
    "        return outputs, new_hidden"
   ]
  },
  {
   "cell_type": "code",
   "execution_count": 10,
   "metadata": {},
   "outputs": [],
   "source": [
    "class MultiStepRNNForecast(nn.Module):\n",
    "    def __init__(self, input_size, hidden_size, output_size=1, output_steps=1, num_layers=1, dropout=0.2):\n",
    "        super().__init__()\n",
    "        self.output_steps = output_steps\n",
    "        \n",
    "        # RNN de base sans modifications\n",
    "        self.rnn = RNNfromscratch(input_size, hidden_size, num_layers, dropout)\n",
    "        \n",
    "        # Projection simple pour chaque pas de temps à prédire\n",
    "        self.projections = nn.ModuleList([\n",
    "            nn.Linear(hidden_size, output_size) for _ in range(output_steps)\n",
    "        ])\n",
    "        \n",
    "        # Normalisation de couche pour stabiliser l'apprentissage\n",
    "        self.layer_norm = nn.LayerNorm(hidden_size)\n",
    "        \n",
    "    def forward(self, X):\n",
    "        \"\"\"\n",
    "        X: tenseur de forme (batch_size, seq_len, input_size)\n",
    "        \"\"\"\n",
    "        # Permuter pour (seq_len, batch_size, input_size)\n",
    "        X = X.permute(1, 0, 2)\n",
    "        \n",
    "        # Passer à travers le RNN\n",
    "        _, final_hidden = self.rnn(X)\n",
    "        \n",
    "        # Utiliser uniquement l'état caché final de la dernière couche\n",
    "        final_hidden_flat = final_hidden[-1]\n",
    "        final_hidden_norm = self.layer_norm(final_hidden_flat)\n",
    "        \n",
    "        # Prédictions pour chaque pas de temps futur\n",
    "        predictions = []\n",
    "        for projection in self.projections:\n",
    "            pred = projection(final_hidden_norm)\n",
    "            predictions.append(pred)\n",
    "            \n",
    "        # Stack pour former un tenseur (batch_size, output_steps, output_size)\n",
    "        if self.output_steps > 1:\n",
    "            return torch.stack(predictions, dim=1)\n",
    "        else:\n",
    "            return predictions[0]  # Retourne simplement le tenseur pour un pas"
   ]
  },
  {
   "cell_type": "code",
   "execution_count": null,
   "metadata": {},
   "outputs": [],
   "source": [
    "class RNNForecasting(nn.Module):\n",
    "\n",
    "    def __init__(self, input_size, hidden_size, num_layers, dropout, output_size, forecast_steps):\n",
    "        super().__init__()\n",
    "        self.output_size = output_size\n",
    "        self.forecast_steps = forecast_steps\n",
    "        self.rnn = RNNfromscratch(input_size=input_size, hidden_size=hidden_size, num_layers=num_layers, dropout=dropout)\n",
    "        self.output_layers = nn.ModuleList(nn.Linear(hidden_size, output_size) for _ in range(forecast_steps))\n",
    "        # Normalisation de couche pour stabiliser l'apprentissage\n",
    "        self.layer_norm = nn.LayerNorm(hidden_size)\n",
    "    \n",
    "    def forward(self, X):\n",
    "        X = X.permute(1, 0, 2)\n",
    "        _, hidden = self.rnn(X)\n",
    "        \n",
    "        predictions = []\n",
    "        for layer in self.output_layers:\n",
    "            predictions.append(layer(self.layer_norm(hidden[-1])))\n",
    "        \n",
    "        if self.forecast_steps>1:\n",
    "            return torch.stack(predictions, dim=1)\n",
    "        else:\n",
    "            return predictions[0]\n",
    "        "
   ]
  },
  {
   "cell_type": "code",
   "execution_count": 6,
   "metadata": {},
   "outputs": [],
   "source": [
    "class CustomLoss(nn.Module):\n",
    "    def __init__(self):\n",
    "        super().__init__()\n",
    "        self.mse = nn.MSELoss()\n",
    "        \n",
    "    def forward(self, preds, target):\n",
    "        return torch.sqrt(self.mse(preds, target))"
   ]
  },
  {
   "cell_type": "code",
   "execution_count": 7,
   "metadata": {},
   "outputs": [],
   "source": [
    "from torch.utils.data import DataLoader, Dataset\n",
    "from sklearn.preprocessing import StandardScaler\n",
    "\n",
    "class CustomDataset(Dataset):\n",
    "    def __init__(self, seq_length, forecasting_steps, flag:str, normalize:bool=True):\n",
    "        super().__init__()\n",
    "        self.seq_length = seq_length\n",
    "        self.forecasting_steps = forecasting_steps\n",
    "        flag_map = {\"train\": 0, \"val\": 1, \"test\": 2}\n",
    "        self.flag = flag_map[flag]\n",
    "        self.normalize = normalize\n",
    "        self.scalers = {}\n",
    "        self._load_data()\n",
    "    \n",
    "    def _load_data(self):\n",
    "        df = pd.read_pickle(\"/workspaces/ds_project_1/data/dataset.pkl\")\n",
    "\n",
    "        data_len = len(df.values) - self.seq_length + self.forecasting_steps + 1\n",
    "\n",
    "        self.subset_map = {0: 0.7, 1: 0.85, 2: 1}\n",
    "        if self.flag==0:\n",
    "            borders = [0, int(np.ceil(data_len*0.7))]\n",
    "        else:\n",
    "            train_borders, borders = self._get_splits_border(data_len=data_len)\n",
    "\n",
    "\n",
    "        if self.normalize:\n",
    "            self.scalers[\"predictors\"] = StandardScaler()\n",
    "            self.scalers[\"target\"] = StandardScaler()\n",
    "\n",
    "            if self.flag==0:\n",
    "                self.target = df[\"prices\"].values[borders[0]:borders[1]]\n",
    "                df = df.drop(columns=[\"prices\"])\n",
    "                self.predictors = df.values[borders[0]:borders[1]]\n",
    "\n",
    "                self.predictors = self.scalers[\"predictors\"].fit_transform(self.predictors)\n",
    "                self.target =  self.scalers[\"target\"].fit_transform(self.target.reshape(-1, 1))\n",
    "            else:\n",
    "                self.target = df[\"prices\"].values[borders[0]:borders[1]]\n",
    "                self.scalers[\"target\"].fit(df[\"prices\"].values[train_borders[0]:train_borders[1]].reshape(-1, 1))\n",
    "                self.target = self.scalers[\"target\"].transform(self.target.reshape(-1, 1))\n",
    "\n",
    "                df = df.drop(columns=[\"prices\"])\n",
    "                self.predictors = df.values[borders[0]:borders[1]]\n",
    "\n",
    "                self.scalers[\"predictors\"].fit(df.values[train_borders[0]:train_borders[1]])\n",
    "                print(f\"predictors shape: {self.predictors.shape}\")\n",
    "                self.predictors = self.scalers[\"predictors\"].transform(self.predictors)\n",
    "\n",
    "        else:\n",
    "            self.target = df[\"prices\"].values[borders[0]:borders[1]]\n",
    "            df = df.drop(columns=[\"prices\"])\n",
    "            self.predictors = df.values[borders[0]:borders[1]]\n",
    "\n",
    "    def _get_splits_border(self, data_len):\n",
    "        \n",
    "        train_borders = [0, int(np.ceil(data_len*0.7))]\n",
    "        borders = [int(np.ceil(data_len*self.subset_map[self.flag-1])), int(np.ceil(data_len*self.subset_map[self.flag]))]\n",
    "        return train_borders, borders\n",
    "\n",
    "    def __getitem__(self, index):\n",
    "        preds = self.predictors[index:index+self.seq_length]\n",
    "        target = self.target[index+self.seq_length+self.forecasting_steps] if self.forecasting_steps>1 else self.target[index+self.seq_length]\n",
    "        return torch.tensor(preds, dtype=torch.float32), torch.tensor(target, dtype=torch.float32)\n",
    "\n",
    "    def __len__(self):\n",
    "        return len(self.predictors) - self.seq_length\n",
    "    \n",
    "    def inverse_transform_target(self, data):\n",
    "        \"\"\"Inverse la normalisation pour les valeurs prédites\"\"\"\n",
    "        if self.normalize:\n",
    "            return self.scalers['target'].inverse_transform(data.reshape(-1, 1)).flatten()\n",
    "        return data"
   ]
  },
  {
   "cell_type": "code",
   "execution_count": 9,
   "metadata": {},
   "outputs": [],
   "source": [
    "class EarlyStopping:\n",
    "    def __init__(self, patience=7, verbose=True, path:str=\"checkpoint.pt\"):\n",
    "        self.patience = patience\n",
    "        self.verbose = verbose\n",
    "        self.path = path\n",
    "        self.best_score = None\n",
    "        self.counter = 0\n",
    "        self.val_loss_min = float('inf')\n",
    "        self.early_stop = False\n",
    "    \n",
    "    def __call__(self, val_loss, model):\n",
    "        \"Dunder methods to use a class instance as a function\"\n",
    "        score = -val_loss\n",
    "        if self.best_score is None:\n",
    "            self.best_score = score\n",
    "            self.save_checkpoint(model, val_loss)\n",
    "\n",
    "        elif score < self.best_score:\n",
    "\n",
    "            self.counter += 1\n",
    "            if self.verbose:\n",
    "                print(f\"Validation loss decreased: {self.counter} out of {self.patience} epochs\")\n",
    "            if self.counter==self.patience:\n",
    "                self.early_stop = True\n",
    "        else:\n",
    "            self.best_score = score\n",
    "            self.save_checkpoint(model, val_loss)\n",
    "            self.counter = 0\n",
    "\n",
    "    \n",
    "    def save_checkpoint(self, model, val_loss):\n",
    "        if self.verbose:\n",
    "            print(f\"Validation metric decreased: {self.val_loss_min: .6f} ----> {val_loss}\")\n",
    "        # .state_dict(): Return a dictionary containing references to the whole state of the module.\n",
    "        torch.save(obj=model.state_dict(), f=self.path)\n",
    "        self.val_loss_min = val_loss\n"
   ]
  },
  {
   "cell_type": "code",
   "execution_count": 8,
   "metadata": {},
   "outputs": [],
   "source": [
    "from tqdm import tqdm\n",
    "import time\n",
    "import numpy as np\n",
    "\n",
    "def train_and_evaluate(model, train_loader, val_loader, optimizer, loss_func, num_epochs, patience, verbose=True):\n",
    "\n",
    "    # Init early stopping\n",
    "    early_stopping = EarlyStopping(patience=patience, verbose=True)\n",
    "    train_losses = []\n",
    "    val_losses = []\n",
    "    for epoch in range(num_epochs):\n",
    "\n",
    "        epoch_loss = 0.0\n",
    "        model.train()\n",
    "\n",
    "        epoch_time = time.time()\n",
    "\n",
    "        for i, (batch_x, batch_y) in enumerate(tqdm(train_loader, desc=f\"epoch{epoch+1}/{num_epochs}\", unit=\"batch\")):\n",
    "            # batch_x = batch_x.to_device(device)\n",
    "            # batch_y = batch_y.to_device(device)\n",
    "            optimizer.zero_grad()\n",
    "\n",
    "            pred = model(batch_x)\n",
    "            loss = loss_func(pred, batch_y)\n",
    "\n",
    "            # backprop\n",
    "            loss.backward()\n",
    "            nn.utils.clip_grad_norm_(model.parameters(), max_norm=1.0)\n",
    "            optimizer.step()\n",
    "\n",
    "            epoch_loss += loss.item()\n",
    "\n",
    "        avg_train_loss = epoch_loss/len(train_loader)\n",
    "        train_losses.append(avg_train_loss)\n",
    "\n",
    "        # Evaluation\n",
    "        model.eval()\n",
    "        val_loss = 0.0\n",
    "\n",
    "        with torch.no_grad():\n",
    "            for i, (batch_x, batch_y) in enumerate(val_loader):\n",
    "                pred = model(batch_x)\n",
    "                loss = loss_func(pred, batch_y)\n",
    "                val_loss += loss.item()\n",
    "\n",
    "        avg_val_loss = val_loss/len(val_loader)\n",
    "        val_losses.append(avg_val_loss)\n",
    "\n",
    "        # Early stopping check\n",
    "        early_stopping(avg_val_loss, model)\n",
    "        if early_stopping.early_stop:\n",
    "            print(\"Early stopping\")\n",
    "            break\n",
    "        if verbose:\n",
    "            print(f\"Epoch: {epoch + 1}/{num_epochs} | Cost time: {time.time() - epoch_time}\")\n",
    "            print(f\"Train Loss: {avg_train_loss} | Validation Loss: {avg_val_loss}\")\n",
    "    # Load best model:\n",
    "    model.load_state_dict(torch.load(early_stopping.path))\n",
    "    \n",
    "    return model, train_losses, val_losses\n",
    "\n"
   ]
  },
  {
   "cell_type": "code",
   "execution_count": 10,
   "metadata": {},
   "outputs": [],
   "source": [
    "def evaluate_model(model, test_loader, loss_func, dataset):\n",
    "    test_loss = 0.0\n",
    "    preds_series = []\n",
    "    targets_series = []\n",
    "    model.eval() #desactivate dropout\n",
    "    with torch.no_grad():\n",
    "        for i, (batch_x, batch_y) in enumerate(test_loader):\n",
    "            preds = model(batch_x)\n",
    "            loss = loss_func(preds, batch_y)\n",
    "            test_loss += loss\n",
    "            preds_series.extend(preds.numpy())\n",
    "            targets_series.extend(batch_y.numpy())\n",
    "\n",
    "    # Calculer la perte moyenne\n",
    "    avg_test_loss = test_loss / len(test_loader)\n",
    "    \n",
    "    # Convertir en arrays numpy\n",
    "    preds_series = np.array(preds_series)\n",
    "    targets_series = np.array(targets_series)\n",
    "    \n",
    "    # Inverser la normalisation si nécessaire\n",
    "    if dataset.normalize:\n",
    "        preds_series = dataset.inverse_transform_target(preds_series)\n",
    "        targets_series = dataset.inverse_transform_target(targets_series)\n",
    "    \n",
    "    # Calculer les métriques\n",
    "    mse = np.mean((preds_series - targets_series) ** 2)\n",
    "    rmse = np.sqrt(mse)\n",
    "    mae = np.mean(np.abs(preds_series - targets_series))\n",
    "    \n",
    "    metrics = {\n",
    "        'test_loss': avg_test_loss,\n",
    "        'mse': mse,\n",
    "        'rmse': rmse,\n",
    "        'mae': mae\n",
    "    }\n",
    "    \n",
    "    return metrics, preds_series, targets_series"
   ]
  },
  {
   "cell_type": "code",
   "execution_count": 14,
   "metadata": {},
   "outputs": [
    {
     "name": "stdout",
     "output_type": "stream",
     "text": [
      "predictors shape: (9175, 15)\n"
     ]
    },
    {
     "name": "stderr",
     "output_type": "stream",
     "text": [
      "epoch1/10: 100%|██████████| 1337/1337 [00:16<00:00, 79.98batch/s]\n"
     ]
    },
    {
     "name": "stdout",
     "output_type": "stream",
     "text": [
      "Validation metric decreased:  inf ----> 0.2443708103488792\n",
      "Epoch: 1/10 | Cost time: 17.88329577445984\n",
      "Train Loss: 0.269298755362485 | Validation Loss: 0.2443708103488792\n"
     ]
    },
    {
     "name": "stderr",
     "output_type": "stream",
     "text": [
      "epoch2/10: 100%|██████████| 1337/1337 [00:19<00:00, 70.03batch/s]\n"
     ]
    },
    {
     "name": "stdout",
     "output_type": "stream",
     "text": [
      "Validation metric decreased:  0.244371 ----> 0.22452222673105193\n",
      "Epoch: 2/10 | Cost time: 21.182729721069336\n",
      "Train Loss: 0.22766177314448552 | Validation Loss: 0.22452222673105193\n"
     ]
    },
    {
     "name": "stderr",
     "output_type": "stream",
     "text": [
      "epoch3/10: 100%|██████████| 1337/1337 [00:16<00:00, 81.07batch/s]\n"
     ]
    },
    {
     "name": "stdout",
     "output_type": "stream",
     "text": [
      "Validation metric decreased:  0.224522 ----> 0.21218018822528265\n",
      "Epoch: 3/10 | Cost time: 17.664596796035767\n",
      "Train Loss: 0.22455743944346235 | Validation Loss: 0.21218018822528265\n"
     ]
    },
    {
     "name": "stderr",
     "output_type": "stream",
     "text": [
      "epoch4/10: 100%|██████████| 1337/1337 [00:15<00:00, 83.85batch/s] \n"
     ]
    },
    {
     "name": "stdout",
     "output_type": "stream",
     "text": [
      "Validation metric decreased:  0.212180 ----> 0.20336438495327125\n",
      "Epoch: 4/10 | Cost time: 17.0796639919281\n",
      "Train Loss: 0.2186685519358429 | Validation Loss: 0.20336438495327125\n"
     ]
    },
    {
     "name": "stderr",
     "output_type": "stream",
     "text": [
      "epoch5/10: 100%|██████████| 1337/1337 [00:16<00:00, 79.77batch/s]\n"
     ]
    },
    {
     "name": "stdout",
     "output_type": "stream",
     "text": [
      "Validation loss decreased: 1 out of 2 epochs\n",
      "Epoch: 5/10 | Cost time: 17.94328761100769\n",
      "Train Loss: 0.2110070155163086 | Validation Loss: 0.20424356194330262\n"
     ]
    },
    {
     "name": "stderr",
     "output_type": "stream",
     "text": [
      "epoch6/10: 100%|██████████| 1337/1337 [00:15<00:00, 84.57batch/s]\n"
     ]
    },
    {
     "name": "stdout",
     "output_type": "stream",
     "text": [
      "Validation loss decreased: 2 out of 2 epochs\n",
      "Early stopping\n"
     ]
    }
   ],
   "source": [
    "num_epochs = 10\n",
    "patience = 2\n",
    "\n",
    "train_set = CustomDataset(seq_length=10, forecasting_steps=1, flag=\"train\")\n",
    "val_set = CustomDataset(seq_length=10, forecasting_steps=1, flag=\"val\")\n",
    "train_loader = DataLoader(dataset=train_set, batch_size=32, drop_last=True, shuffle=True)\n",
    "val_loader = DataLoader(dataset=val_set, batch_size=32, drop_last=True)\n",
    "\n",
    "loss_func = CustomLoss()\n",
    "\n",
    "# rnn = RNNfromscratch(input_size=train_set.predictors.shape[1], hidden_size=20, num_layers=1)\n",
    "\n",
    "device = torch.device('cuda' if torch.cuda.is_available() else 'cpu')\n",
    "\n",
    "rnn = RNNForecasting(\n",
    "        input_size=train_set.predictors.shape[1],\n",
    "        hidden_size=64,\n",
    "        output_size=1,\n",
    "        forecast_steps=1,\n",
    "        num_layers=1,\n",
    "        dropout=0.2\n",
    "    ).to(device)\n",
    "    \n",
    "optimizer = torch.optim.Adam(params=rnn.parameters(), lr=1e-3)\n",
    "\n",
    "# Train and validation\n",
    "\n",
    "model, train_losses, val_losses = train_and_evaluate(rnn, train_loader, val_loader, optimizer, loss_func, num_epochs, patience, verbose=True)"
   ]
  },
  {
   "cell_type": "code",
   "execution_count": 16,
   "metadata": {},
   "outputs": [
    {
     "name": "stdout",
     "output_type": "stream",
     "text": [
      "predictors shape: (9175, 15)\n"
     ]
    }
   ],
   "source": [
    "test_set = CustomDataset(seq_length=10, flag=\"test\", forecasting_steps=1)\n",
    "test_loader = DataLoader(dataset=test_set, batch_size=32, drop_last=True)\n",
    "metrics, preds_series, targets_series = evaluate_model(model, test_loader, loss_func, test_set)"
   ]
  },
  {
   "cell_type": "code",
   "execution_count": 19,
   "metadata": {},
   "outputs": [],
   "source": [
    "def plot_results(train_losses, val_losses, pred, target, title=\"Model Performance\"):\n",
    "    \"\"\"\n",
    "    Affiche les résultats d'entraînement et de test\n",
    "    \"\"\"\n",
    "    fig, (ax1, ax2) = plt.subplots(2, 1, figsize=(15, 5))\n",
    "    \n",
    "    # Tracer les pertes\n",
    "    ax1.plot(train_losses, label='Train Loss')\n",
    "    ax1.plot(val_losses, label='Validation Loss')\n",
    "    ax1.set_xlabel('Epochs')\n",
    "    ax1.set_ylabel('Loss')\n",
    "    ax1.set_title('Training and Validation Loss')\n",
    "    ax1.legend()\n",
    "    ax1.grid(True)\n",
    "    \n",
    "    # Tracer les prédictions vs valeurs réelles\n",
    "    test_indices = np.arange(len(pred))\n",
    "    ax2.plot(test_indices, target, label='Actual')\n",
    "    ax2.plot(test_indices, pred, label='Predicted')\n",
    "    ax2.set_xlabel('Test Sample Index')\n",
    "    ax2.set_ylabel('Value')\n",
    "    ax2.set_title('Predictions vs Actual')\n",
    "    ax2.legend()\n",
    "    ax2.grid(True)\n",
    "    \n",
    "    plt.suptitle(title)\n",
    "    plt.tight_layout()\n",
    "    \n",
    "    return fig"
   ]
  },
  {
   "cell_type": "code",
   "execution_count": 20,
   "metadata": {},
   "outputs": [
    {
     "name": "stdout",
     "output_type": "stream",
     "text": [
      "\n",
      "Résultats sur l'ensemble de test:\n",
      "test_loss: 0.179218\n",
      "mse: 494.755585\n",
      "rmse: 22.243101\n",
      "mae: 16.947105\n"
     ]
    },
    {
     "data": {
      "image/png": "[encoded data removed]",
      "text/plain": [
       "<Figure size 1500x500 with 2 Axes>"
      ]
     },
     "metadata": {},
     "output_type": "display_data"
    }
   ],
   "source": [
    "print(\"\\nRésultats sur l'ensemble de test:\")\n",
    "for metric_name, metric_value in metrics.items():\n",
    "    print(f\"{metric_name}: {metric_value:.6f}\")\n",
    "    \n",
    "# Tracer les résultats\n",
    "fig = plot_results(\n",
    "    train_losses=train_losses,\n",
    "    val_losses=val_losses,\n",
    "    pred=preds_series,\n",
    "    target=targets_series,\n",
    "    title=\"Prévision des prix d'électricité\"\n",
    ")\n",
    "\n",
    "plt.show()"
   ]
  },
  {
   "cell_type": "code",
   "execution_count": 2,
   "metadata": {},
   "outputs": [
    {
     "data": {
      "text/plain": [
       "'/workspaces/ds_project_1/Energy_Forecasting/notebooks'"
      ]
     },
     "execution_count": 2,
     "metadata": {},
     "output_type": "execute_result"
    }
   ],
   "source": [
    "import os\n",
    "os.getcwd()"
   ]
  },
  {
   "cell_type": "code",
   "execution_count": 3,
   "metadata": {},
   "outputs": [
    {
     "name": "stdout",
     "output_type": "stream",
     "text": [
      "/workspaces/ds_project_1/Energy_Forecasting\n"
     ]
    }
   ],
   "source": [
    "BASE_DIR = Path(os.getcwd()).resolve().parent\n",
    "print(BASE_DIR)\n",
    "os.chdir(str(BASE_DIR))"
   ]
  },
  {
   "cell_type": "code",
   "execution_count": 4,
   "metadata": {},
   "outputs": [
    {
     "data": {
      "text/plain": [
       "'/workspaces/ds_project_1/Energy_Forecasting'"
      ]
     },
     "execution_count": 4,
     "metadata": {},
     "output_type": "execute_result"
    }
   ],
   "source": [
    "os.getcwd()"
   ]
  },
  {
   "cell_type": "code",
   "execution_count": 5,
   "metadata": {},
   "outputs": [
    {
     "name": "stdout",
     "output_type": "stream",
     "text": [
      "/workspaces/ds_project_1/Energy_Forecasting\n"
     ]
    }
   ],
   "source": [
    "from energy_forecast.data.data_loaders import DataHelper"
   ]
  },
  {
   "cell_type": "code",
   "execution_count": 6,
   "metadata": {},
   "outputs": [
    {
     "name": "stdout",
     "output_type": "stream",
     "text": [
      "current working dir /workspaces/ds_project_1/Energy_Forecasting\n",
      "current working dir /workspaces/ds_project_1/Energy_Forecasting\n",
      "predictors shape: (9173, 15)\n",
      "current working dir /workspaces/ds_project_1/Energy_Forecasting\n",
      "predictors shape: (9173, 15)\n"
     ]
    }
   ],
   "source": [
    "data_helper = DataHelper()\n",
    "train_loader, val_loader, test_loader = data_helper.get_data_loaders(seq_length=24, \n",
    "                                                                      forecasting_steps=1, \n",
    "                                                                      batch_size=32, \n",
    "                                                                      drop_last=True).values()"
   ]
  },
  {
   "cell_type": "code",
   "execution_count": 8,
   "metadata": {},
   "outputs": [
    {
     "data": {
      "text/plain": [
       "15"
      ]
     },
     "execution_count": 8,
     "metadata": {},
     "output_type": "execute_result"
    }
   ],
   "source": [
    "data_helper.train_set.predictors.shape[1]"
   ]
  },
  {
   "cell_type": "code",
   "execution_count": 7,
   "metadata": {},
   "outputs": [
    {
     "name": "stderr",
     "output_type": "stream",
     "text": [
      "epoch1/1: 100%|██████████| 1337/1337 [00:33<00:00, 40.38batch/s]\n"
     ]
    },
    {
     "ename": "AttributeError",
     "evalue": "'Trainer' object has no attribute 'loss_func'",
     "output_type": "error",
     "traceback": [
      "\u001b[0;31m---------------------------------------------------------------------------\u001b[0m",
      "\u001b[0;31mAttributeError\u001b[0m                            Traceback (most recent call last)",
      "Cell \u001b[0;32mIn[7], line 20\u001b[0m\n\u001b[1;32m     14\u001b[0m optimizer \u001b[38;5;241m=\u001b[39m torch\u001b[38;5;241m.\u001b[39moptim\u001b[38;5;241m.\u001b[39mAdam(params\u001b[38;5;241m=\u001b[39mrnn\u001b[38;5;241m.\u001b[39mparameters(), lr\u001b[38;5;241m=\u001b[39m\u001b[38;5;241m1e-3\u001b[39m)\n\u001b[1;32m     16\u001b[0m trainer \u001b[38;5;241m=\u001b[39m Trainer(model\u001b[38;5;241m=\u001b[39mrnn,\n\u001b[1;32m     17\u001b[0m                   loss_function\u001b[38;5;241m=\u001b[39mloss_function,\n\u001b[1;32m     18\u001b[0m                   optimizer\u001b[38;5;241m=\u001b[39moptimizer)\n\u001b[0;32m---> 20\u001b[0m \u001b[43mtrainer\u001b[49m\u001b[38;5;241;43m.\u001b[39;49m\u001b[43mfit\u001b[49m\u001b[43m(\u001b[49m\u001b[43mtrain_loader\u001b[49m\u001b[38;5;241;43m=\u001b[39;49m\u001b[43mtrain_loader\u001b[49m\u001b[43m,\u001b[49m\n\u001b[1;32m     21\u001b[0m \u001b[43m            \u001b[49m\u001b[43mval_loader\u001b[49m\u001b[38;5;241;43m=\u001b[39;49m\u001b[43mval_loader\u001b[49m\u001b[43m,\u001b[49m\n\u001b[1;32m     22\u001b[0m \u001b[43m            \u001b[49m\u001b[43mnum_epochs\u001b[49m\u001b[38;5;241;43m=\u001b[39;49m\u001b[38;5;241;43m1\u001b[39;49m\u001b[43m,\u001b[49m\n\u001b[1;32m     23\u001b[0m \u001b[43m            \u001b[49m\u001b[43mpatience\u001b[49m\u001b[38;5;241;43m=\u001b[39;49m\u001b[38;5;241;43m5\u001b[39;49m\u001b[43m)\u001b[49m\n",
      "File \u001b[0;32m/workspaces/ds_project_1/Energy_Forecasting/energy_forecast/training/train.py:45\u001b[0m, in \u001b[0;36mTrainer.fit\u001b[0;34m(self, train_loader, val_loader, num_epochs, patience, verbose)\u001b[0m\n\u001b[1;32m     42\u001b[0m avg_train_loss \u001b[38;5;241m=\u001b[39m epoch_loss\u001b[38;5;241m/\u001b[39m\u001b[38;5;28mlen\u001b[39m(train_loader)\n\u001b[1;32m     43\u001b[0m \u001b[38;5;28mself\u001b[39m\u001b[38;5;241m.\u001b[39mtrain_losses\u001b[38;5;241m.\u001b[39mappend(avg_train_loss)\n\u001b[0;32m---> 45\u001b[0m val_loss \u001b[38;5;241m=\u001b[39m \u001b[38;5;28;43mself\u001b[39;49m\u001b[38;5;241;43m.\u001b[39;49m\u001b[43m_evaluate\u001b[49m\u001b[43m(\u001b[49m\u001b[43mval_loader\u001b[49m\u001b[43m)\u001b[49m\n\u001b[1;32m     46\u001b[0m \u001b[38;5;28;01mif\u001b[39;00m val_loss \u001b[38;5;241m<\u001b[39m \u001b[38;5;28mself\u001b[39m\u001b[38;5;241m.\u001b[39mbest_val_loss:\n\u001b[1;32m     47\u001b[0m     \u001b[38;5;28mself\u001b[39m\u001b[38;5;241m.\u001b[39mbest_val_loss \u001b[38;5;241m=\u001b[39m val_loss\n",
      "File \u001b[0;32m/workspaces/ds_project_1/Energy_Forecasting/energy_forecast/training/train.py:68\u001b[0m, in \u001b[0;36mTrainer._evaluate\u001b[0;34m(self, val_loader)\u001b[0m\n\u001b[1;32m     66\u001b[0m     \u001b[38;5;28;01mfor\u001b[39;00m i, (batch_x, batch_y) \u001b[38;5;129;01min\u001b[39;00m \u001b[38;5;28menumerate\u001b[39m(val_loader):\n\u001b[1;32m     67\u001b[0m         pred \u001b[38;5;241m=\u001b[39m \u001b[38;5;28mself\u001b[39m\u001b[38;5;241m.\u001b[39mmodel(batch_x)\n\u001b[0;32m---> 68\u001b[0m         loss \u001b[38;5;241m=\u001b[39m \u001b[38;5;28;43mself\u001b[39;49m\u001b[38;5;241;43m.\u001b[39;49m\u001b[43mloss_func\u001b[49m(pred, batch_y)\n\u001b[1;32m     69\u001b[0m         val_loss \u001b[38;5;241m+\u001b[39m\u001b[38;5;241m=\u001b[39m loss\u001b[38;5;241m.\u001b[39mitem()\n\u001b[1;32m     71\u001b[0m avg_val_loss \u001b[38;5;241m=\u001b[39m val_loss\u001b[38;5;241m/\u001b[39m\u001b[38;5;28mlen\u001b[39m(val_loader)\n",
      "\u001b[0;31mAttributeError\u001b[0m: 'Trainer' object has no attribute 'loss_func'"
     ]
    }
   ],
   "source": [
    "from energy_forecast.modeling.rnn import RNNForecasting\n",
    "from energy_forecast.training.train import Trainer\n",
    "from energy_forecast.modeling.losses import CustomLoss\n",
    "\n",
    "loss_function = CustomLoss()\n",
    "\n",
    "rnn = RNNForecasting(input_size=data_helper.train_set.predictors.shape[1],\n",
    "                     hidden_size=64,\n",
    "                     num_layers=1,\n",
    "                     dropout=0.5,\n",
    "                     output_size=1,\n",
    "                     forecast_steps=1)\n",
    "\n",
    "optimizer = torch.optim.Adam(params=rnn.parameters(), lr=1e-3)\n",
    "\n",
    "trainer = Trainer(model=rnn,\n",
    "                  loss_function=loss_function,\n",
    "                  optimizer=optimizer)\n",
    "\n",
    "trainer.fit(train_loader=train_loader,\n",
    "            val_loader=val_loader,\n",
    "            num_epochs=1,\n",
    "            patience=5)"
   ]
  }
 ],
 "metadata": {
  "kernelspec": {
   "display_name": "Python 3",
   "language": "python",
   "name": "python3"
  },
  "language_info": {
   "codemirror_mode": {
    "name": "ipython",
    "version": 3
   },
   "file_extension": ".py",
   "mimetype": "text/x-python",
   "name": "python",
   "nbconvert_exporter": "python",
   "pygments_lexer": "ipython3",
   "version": "3.12.8"
  }
 },
 "nbformat": 4,
 "nbformat_minor": 2
}
